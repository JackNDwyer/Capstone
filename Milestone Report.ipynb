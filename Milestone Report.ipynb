{
 "cells": [
  {
   "cell_type": "markdown",
   "metadata": {},
   "source": [
    "# Milestone Report"
   ]
  },
  {
   "cell_type": "markdown",
   "metadata": {},
   "source": [
    "## An introduction to the problem: What is the problem? Who is the Client?\n",
    "\n",
    ">A lot of talk these days is centered around energy, specifically consumption of energy and the pervasiveness of fossil fuels. Given the electricity consumption data set, as well as the data I found on intrastate generation spread, I want to model the relationship between the various states, their energy consumption, and their move either toward or away from conventional fossil fuel resources. With this, hopefully we can predict the future of the country’s energy spread, and see if we are potentially heading in the right direction, and at the right rate.\n",
    "\n",
    ">My client would be anyone in the energy space. Generators have the need to know if they’re going to be able to stay in the market, consumers want to know how expensive being in the market will be as well as their options, and policy makers want to keep their constituents happy."
   ]
  },
  {
   "cell_type": "markdown",
   "metadata": {},
   "source": [
    "## What important fields and information does the data set have?\n",
    ">The data, pulled from two tables, is actually very ideal for mapping out what I aim to answer. The first one outlines statewide generation. This will be very useful to see not only where states are going with consumption, but who is growing the most rapidly. It had other data accompanying it as well, however the second data set dives deeper into that mix.\n",
    "\n",
    ">The second dataset is more for specific clients. By year and state, I will be able to not only show which forms of generation are growing and how fuel types are changing, but where and when they're happening. I think I'll need to focus on one problem, because this data set could provide answers to dozens of questions. I will likley try and paint a picture of what fuel input will be most prevelant in 5 years, and which industries will be consuming the most in 5 years. This will, at least in theory, answer a lot of pressing national questions, as well as hopefully provide insight into who can expect to be in business in 5 years (or at least what scale they can expect to be doing business), and where that business will originate from."
   ]
  },
  {
   "cell_type": "markdown",
   "metadata": {},
   "source": [
    "## What are its limitations?\n",
    ">The main limitation here is the prevelance of too much information. I know this is typically not a problem, but there are a lot of categories at work here, and within them subcategories. I worry that because this data dates back decades, there may be some misrecording of data and general noise that may muddy up the results. That being said, it's not really even a limitation as much as a necessary precaution to be cognizant of. Ultimately this data will answer all of the questions I have proposed, and many more that I can go back to answer should I want to."
   ]
  },
  {
   "cell_type": "markdown",
   "metadata": {},
   "source": [
    "## What kind of cleaning and wrangling did you need to do?\n",
    ">Although the steps may seem simple (reflected in the EDA Final notebook), there was a lot of foresite that went into them. I wanted to find useful, unique questions to answer, so I spent a lot of time manipulatiing the data to see what popped out at me. Ultimately I'm happy with the qustions I hope to answer.\n",
    "\n",
    ">There was intially an attempt at merging my dataframes to see if anything useful came out of them. After some deliberation, I think they will best be kept seperate, but interpreted together. I really like how it's all transpiring because I think I'll be able to answer questions about one dataset with the other, and the results will likely compliment eachother in the same type of way.\n",
    "\n",
    ">As for what I explicitly did, a lot of unstacking and reindexing. I had a very thorough data set that was human friendly, but analysis opposed. I had to seperate a lot of the columns out, unstack, reindex, and then group up to derive meaning. I really liked how the pandas lecturer lived by a few simple commands (unstack, index manipulation, and groupby/sort), so I really wanted to make sure I am comfortable doing those moving forward."
   ]
  },
  {
   "cell_type": "markdown",
   "metadata": {},
   "source": [
    "## Are there other datasets you can find, use and combine with, to answer the questions that matter?\n",
    "> As mentioned above, I did some exploration, and given what I ultimately want to answer, I'm very happy with the two I selected. There is a near infinite supply of energy data out there (EIA, IEA, BP statistical review, etc.), which makes it an exciting propsect for future projects, but for now I've committed to the two datasets mentioned above."
   ]
  },
  {
   "cell_type": "markdown",
   "metadata": {},
   "source": [
    "## Any preliminary exploration you’ve performed and your initial findings.\n",
    ">My project went slightly out of order because I decided to clean and wrangle first, so as to hopefully make my EDA easier. This is slightly backfiring, because I'm finding myself going back and adjusting the present data to better suit my needs for answering the questions and graphing. It's a bit of a feedback loop, but it's ensuring I'll have the best data from it, and the most insightful questions to answer.\n",
    "\n",
    ">So far no real surprises; the biggest states consume the most, and fossil fuels still dominate the mix. Additionally renewables are on the rise. I think because of how dynamic the energy sphere has been over the last few decase, I'll have to do a non-linear fit for at least the consumption by state data. The rest of it will be a lot of trial and error, as well as residual inspecting."
   ]
  },
  {
   "cell_type": "markdown",
   "metadata": {},
   "source": [
    "## What approach are you going to take? How has your approach changed from what you initially proposed, if applicable?\n",
    "> I'll start from the beginning. I thought I wanted to combine two data sets and see how the energy consumption of the country has changed over time, and see what states had the most change. I think that will be an interesting secondary result of my analysis, but the paramount interest now is on the energy mix, and the consumers of that energy. \n",
    ">I think it'll be very interesting to see which fuels have the most traction, and which groups are using the fuels, as well as which groups are simply using the most power regardless of type. These questions will be worthy of in depth analysis that answer questions people really care about.\n",
    "\n",
    ">The exciting part for me here is to draw on my energy background from my masters and really deliver some in depth insights into what is going on with the American energy mix. I'm excited to finish analysis and move onto compliling results, because I think that'll really be where I shine. I'm certainly a better critical thinker/story teller than programmer (at least right now), so I think it'll be fun to utilize my predispositions.\n",
    "\n",
    ">Once the wrangling and analysis is completely finished, I'll likely make my graphs a little more pretty, export them, and throw together either a descriptive paper, or a slideshow outlining my project from start to finish.\n"
   ]
  },
  {
   "cell_type": "code",
   "execution_count": null,
   "metadata": {
    "collapsed": true
   },
   "outputs": [],
   "source": []
  }
 ],
 "metadata": {
  "kernelspec": {
   "display_name": "Python 2",
   "language": "python",
   "name": "python2"
  },
  "language_info": {
   "codemirror_mode": {
    "name": "ipython",
    "version": 2
   },
   "file_extension": ".py",
   "mimetype": "text/x-python",
   "name": "python",
   "nbconvert_exporter": "python",
   "pygments_lexer": "ipython2",
   "version": "2.7.13"
  }
 },
 "nbformat": 4,
 "nbformat_minor": 2
}
