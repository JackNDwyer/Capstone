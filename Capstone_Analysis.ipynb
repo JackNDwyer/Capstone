{
 "cells": [
  {
   "cell_type": "code",
   "execution_count": 1,
   "metadata": {
    "collapsed": false
   },
   "outputs": [
    {
     "name": "stdout",
     "output_type": "stream",
     "text": [
      "Populating the interactive namespace from numpy and matplotlib\n"
     ]
    }
   ],
   "source": [
    "%pylab inline\n",
    "import numpy as np\n",
    "import matplotlib.pyplot as plt\n",
    "import pandas as pd\n",
    "from sklearn.metrics import accuracy_score, mean_squared_error\n",
    "from sklearn.model_selection import train_test_split\n",
    "from sklearn.linear_model import LinearRegression, LogisticRegression\n",
    "from statsmodels.formula.api import ols, glsar\n",
    "import statsmodels.formula.api as sm"
   ]
  },
  {
   "cell_type": "code",
   "execution_count": 2,
   "metadata": {
    "collapsed": false
   },
   "outputs": [],
   "source": [
    "#take a linear regression by state\n",
    "st_gen = pd.read_csv('by_st_gen.csv')\n",
    "\n",
    "\n"
   ]
  },
  {
   "cell_type": "code",
   "execution_count": 3,
   "metadata": {
    "collapsed": false
   },
   "outputs": [
    {
     "data": {
      "text/html": [
       "<div>\n",
       "<table border=\"1\" class=\"dataframe\">\n",
       "  <thead>\n",
       "    <tr style=\"text-align: right;\">\n",
       "      <th></th>\n",
       "      <th>year</th>\n",
       "      <th>AK</th>\n",
       "      <th>AL</th>\n",
       "      <th>AR</th>\n",
       "      <th>AZ</th>\n",
       "      <th>CA</th>\n",
       "      <th>CO</th>\n",
       "      <th>CT</th>\n",
       "      <th>DC</th>\n",
       "      <th>DE</th>\n",
       "      <th>...</th>\n",
       "      <th>SD</th>\n",
       "      <th>TN</th>\n",
       "      <th>TX</th>\n",
       "      <th>UT</th>\n",
       "      <th>VA</th>\n",
       "      <th>VT</th>\n",
       "      <th>WA</th>\n",
       "      <th>WI</th>\n",
       "      <th>WV</th>\n",
       "      <th>WY</th>\n",
       "    </tr>\n",
       "  </thead>\n",
       "  <tbody>\n",
       "    <tr>\n",
       "      <th>0</th>\n",
       "      <td>1960</td>\n",
       "      <td>867458.0</td>\n",
       "      <td>11081902.0</td>\n",
       "      <td>6054442.0</td>\n",
       "      <td>4185564.0</td>\n",
       "      <td>50139109.0</td>\n",
       "      <td>5966581.0</td>\n",
       "      <td>6939534.0</td>\n",
       "      <td>1492433.0</td>\n",
       "      <td>2327572.0</td>\n",
       "      <td>...</td>\n",
       "      <td>1864103.0</td>\n",
       "      <td>11702072.0</td>\n",
       "      <td>66361104.0</td>\n",
       "      <td>3995130.0</td>\n",
       "      <td>11265835.0</td>\n",
       "      <td>924997.0</td>\n",
       "      <td>10687759.0</td>\n",
       "      <td>10976657.0</td>\n",
       "      <td>7808858.0</td>\n",
       "      <td>2109696.0</td>\n",
       "    </tr>\n",
       "    <tr>\n",
       "      <th>1</th>\n",
       "      <td>1961</td>\n",
       "      <td>1009859.0</td>\n",
       "      <td>10829504.0</td>\n",
       "      <td>6163641.0</td>\n",
       "      <td>4512767.0</td>\n",
       "      <td>52436995.0</td>\n",
       "      <td>6468158.0</td>\n",
       "      <td>7072532.0</td>\n",
       "      <td>1455224.0</td>\n",
       "      <td>2243549.0</td>\n",
       "      <td>...</td>\n",
       "      <td>1897560.0</td>\n",
       "      <td>11950623.0</td>\n",
       "      <td>67039784.0</td>\n",
       "      <td>3995891.0</td>\n",
       "      <td>11294725.0</td>\n",
       "      <td>974444.0</td>\n",
       "      <td>11072561.0</td>\n",
       "      <td>11276274.0</td>\n",
       "      <td>8287667.0</td>\n",
       "      <td>2305582.0</td>\n",
       "    </tr>\n",
       "    <tr>\n",
       "      <th>2</th>\n",
       "      <td>1962</td>\n",
       "      <td>1099188.0</td>\n",
       "      <td>11494177.0</td>\n",
       "      <td>6538512.0</td>\n",
       "      <td>4782933.0</td>\n",
       "      <td>54108178.0</td>\n",
       "      <td>6553966.0</td>\n",
       "      <td>7335331.0</td>\n",
       "      <td>1485847.0</td>\n",
       "      <td>2423397.0</td>\n",
       "      <td>...</td>\n",
       "      <td>1981844.0</td>\n",
       "      <td>12443316.0</td>\n",
       "      <td>70190893.0</td>\n",
       "      <td>4162082.0</td>\n",
       "      <td>11724328.0</td>\n",
       "      <td>1006309.0</td>\n",
       "      <td>11595241.0</td>\n",
       "      <td>11861066.0</td>\n",
       "      <td>8372378.0</td>\n",
       "      <td>2551349.0</td>\n",
       "    </tr>\n",
       "    <tr>\n",
       "      <th>3</th>\n",
       "      <td>1963</td>\n",
       "      <td>1137772.0</td>\n",
       "      <td>11921317.0</td>\n",
       "      <td>6923084.0</td>\n",
       "      <td>5056721.0</td>\n",
       "      <td>56797786.0</td>\n",
       "      <td>6542968.0</td>\n",
       "      <td>7437937.0</td>\n",
       "      <td>1497520.0</td>\n",
       "      <td>2574576.0</td>\n",
       "      <td>...</td>\n",
       "      <td>2073308.0</td>\n",
       "      <td>12957817.0</td>\n",
       "      <td>74631940.0</td>\n",
       "      <td>4196297.0</td>\n",
       "      <td>12431887.0</td>\n",
       "      <td>999337.0</td>\n",
       "      <td>12151647.0</td>\n",
       "      <td>12197917.0</td>\n",
       "      <td>8649972.0</td>\n",
       "      <td>2445622.0</td>\n",
       "    </tr>\n",
       "    <tr>\n",
       "      <th>4</th>\n",
       "      <td>1964</td>\n",
       "      <td>1197268.0</td>\n",
       "      <td>12705540.0</td>\n",
       "      <td>7502141.0</td>\n",
       "      <td>5278376.0</td>\n",
       "      <td>61115445.0</td>\n",
       "      <td>7017378.0</td>\n",
       "      <td>7674193.0</td>\n",
       "      <td>1652318.0</td>\n",
       "      <td>2577356.0</td>\n",
       "      <td>...</td>\n",
       "      <td>2116378.0</td>\n",
       "      <td>13229839.0</td>\n",
       "      <td>76655707.0</td>\n",
       "      <td>4485706.0</td>\n",
       "      <td>12806567.0</td>\n",
       "      <td>955426.0</td>\n",
       "      <td>12946754.0</td>\n",
       "      <td>12635350.0</td>\n",
       "      <td>9093551.0</td>\n",
       "      <td>2455285.0</td>\n",
       "    </tr>\n",
       "  </tbody>\n",
       "</table>\n",
       "<p>5 rows × 52 columns</p>\n",
       "</div>"
      ],
      "text/plain": [
       "   year         AK          AL         AR         AZ          CA         CO  \\\n",
       "0  1960   867458.0  11081902.0  6054442.0  4185564.0  50139109.0  5966581.0   \n",
       "1  1961  1009859.0  10829504.0  6163641.0  4512767.0  52436995.0  6468158.0   \n",
       "2  1962  1099188.0  11494177.0  6538512.0  4782933.0  54108178.0  6553966.0   \n",
       "3  1963  1137772.0  11921317.0  6923084.0  5056721.0  56797786.0  6542968.0   \n",
       "4  1964  1197268.0  12705540.0  7502141.0  5278376.0  61115445.0  7017378.0   \n",
       "\n",
       "          CT         DC         DE    ...             SD          TN  \\\n",
       "0  6939534.0  1492433.0  2327572.0    ...      1864103.0  11702072.0   \n",
       "1  7072532.0  1455224.0  2243549.0    ...      1897560.0  11950623.0   \n",
       "2  7335331.0  1485847.0  2423397.0    ...      1981844.0  12443316.0   \n",
       "3  7437937.0  1497520.0  2574576.0    ...      2073308.0  12957817.0   \n",
       "4  7674193.0  1652318.0  2577356.0    ...      2116378.0  13229839.0   \n",
       "\n",
       "           TX         UT          VA         VT          WA          WI  \\\n",
       "0  66361104.0  3995130.0  11265835.0   924997.0  10687759.0  10976657.0   \n",
       "1  67039784.0  3995891.0  11294725.0   974444.0  11072561.0  11276274.0   \n",
       "2  70190893.0  4162082.0  11724328.0  1006309.0  11595241.0  11861066.0   \n",
       "3  74631940.0  4196297.0  12431887.0   999337.0  12151647.0  12197917.0   \n",
       "4  76655707.0  4485706.0  12806567.0   955426.0  12946754.0  12635350.0   \n",
       "\n",
       "          WV         WY  \n",
       "0  7808858.0  2109696.0  \n",
       "1  8287667.0  2305582.0  \n",
       "2  8372378.0  2551349.0  \n",
       "3  8649972.0  2445622.0  \n",
       "4  9093551.0  2455285.0  \n",
       "\n",
       "[5 rows x 52 columns]"
      ]
     },
     "execution_count": 3,
     "metadata": {},
     "output_type": "execute_result"
    }
   ],
   "source": [
    "st_gen.head()"
   ]
  },
  {
   "cell_type": "code",
   "execution_count": 4,
   "metadata": {
    "collapsed": true
   },
   "outputs": [],
   "source": [
    "#I'm going to split the dataframe up into state by state. \n",
    "#I'll choose the biggest generating states to analyze\n",
    "#I plan on doing a basic regression, but toying with the residuals to get the best shape\n",
    "#after I'll likely plot by year, with all the states and use political affilaition as\n",
    "#an interaction variable"
   ]
  },
  {
   "cell_type": "code",
   "execution_count": 5,
   "metadata": {
    "collapsed": false
   },
   "outputs": [],
   "source": [
    "ca = st_gen[['year','CA']]\n",
    "tx = st_gen[['year','TX']]\n",
    "pa = st_gen[['year','PA']]\n",
    "wa = st_gen[['year','WA']]\n",
    "ny = st_gen[['year','NY']]\n",
    "fl = st_gen[['year','FL']]"
   ]
  },
  {
   "cell_type": "code",
   "execution_count": 6,
   "metadata": {
    "collapsed": false
   },
   "outputs": [
    {
     "data": {
      "text/plain": [
       "<matplotlib.axes._subplots.AxesSubplot at 0x119bbb3d0>"
      ]
     },
     "execution_count": 6,
     "metadata": {},
     "output_type": "execute_result"
    },
    {
     "data": {
      "image/png": "[encoded data removed]",
      "text/plain": [
       "<matplotlib.figure.Figure at 0x119bbb8d0>"
      ]
     },
     "metadata": {},
     "output_type": "display_data"
    }
   ],
   "source": [
    "ca.plot(x = 'year',y = 'CA')"
   ]
  },
  {
   "cell_type": "code",
   "execution_count": 7,
   "metadata": {
    "collapsed": false
   },
   "outputs": [],
   "source": [
    "p, res, _, _, _ = np.polyfit(x = ca.year, y= ca.CA, deg=20, full = True)"
   ]
  },
  {
   "cell_type": "code",
   "execution_count": 8,
   "metadata": {
    "collapsed": false
   },
   "outputs": [],
   "source": [
    "yfitca = np.polyval(p,ca.year)\n"
   ]
  },
  {
   "cell_type": "code",
   "execution_count": 9,
   "metadata": {
    "collapsed": false
   },
   "outputs": [
    {
     "data": {
      "text/plain": [
       "[<matplotlib.lines.Line2D at 0x11d0ec990>]"
      ]
     },
     "execution_count": 9,
     "metadata": {},
     "output_type": "execute_result"
    },
    {
     "data": {
      "image/png": "[encoded data removed]",
      "text/plain": [
       "<matplotlib.figure.Figure at 0x11d039290>"
      ]
     },
     "metadata": {},
     "output_type": "display_data"
    }
   ],
   "source": [
    "figure()\n",
    "plot(ca.year,ca.CA, label='data')\n",
    "plot(ca.year,yfitca, label='fit')"
   ]
  },
  {
   "cell_type": "markdown",
   "metadata": {},
   "source": [
    "Our plot here actually looks really good. Our residuals will obsviously show some pattern as this plot has far more than 14 polynomials. That said, it well represents the energy growth of California."
   ]
  },
  {
   "cell_type": "code",
   "execution_count": 10,
   "metadata": {
    "collapsed": false
   },
   "outputs": [
    {
     "data": {
      "text/plain": [
       "[<matplotlib.lines.Line2D at 0x11d05c5d0>]"
      ]
     },
     "execution_count": 10,
     "metadata": {},
     "output_type": "execute_result"
    },
    {
     "data": {
      "image/png": "[encoded data removed]",
      "text/plain": [
       "<matplotlib.figure.Figure at 0x10f9236d0>"
      ]
     },
     "metadata": {},
     "output_type": "display_data"
    }
   ],
   "source": [
    "p, res, _, _, _ = np.polyfit(x = tx.year, y= tx.TX, deg=40, full = True)\n",
    "yfittx = np.polyval(p,ca.year)\n",
    "figure()\n",
    "plot(tx.year,tx.TX, label='data')\n",
    "plot(tx.year,yfittx, label='fit')\n"
   ]
  },
  {
   "cell_type": "markdown",
   "metadata": {},
   "source": [
    "It looks like Texas is still very much in a growth phase of energy consumption. When comapred to California, we see that maybe some of California's more liberal constituents are having their desired effect on energy policy. What will be interesting, however, is if Texas is using more orless renewables every year, and if their growth is at least \"clean\"."
   ]
  },
  {
   "cell_type": "code",
   "execution_count": 11,
   "metadata": {
    "collapsed": false
   },
   "outputs": [
    {
     "data": {
      "text/plain": [
       "[<matplotlib.lines.Line2D at 0x11d29a090>]"
      ]
     },
     "execution_count": 11,
     "metadata": {},
     "output_type": "execute_result"
    },
    {
     "data": {
      "image/png": "[encoded data removed]",
      "text/plain": [
       "<matplotlib.figure.Figure at 0x11cf7b590>"
      ]
     },
     "metadata": {},
     "output_type": "display_data"
    }
   ],
   "source": [
    "p, res, _, _, _ = np.polyfit(x = pa.year, y= pa.PA, deg=22, full = True)\n",
    "yfitpa = np.polyval(p,pa.year)\n",
    "figure()\n",
    "plot(pa.year,pa.PA, label='data')\n",
    "plot(pa.year,yfitpa, label='fit')"
   ]
  },
  {
   "cell_type": "code",
   "execution_count": 12,
   "metadata": {
    "collapsed": false
   },
   "outputs": [
    {
     "data": {
      "text/plain": [
       "[<matplotlib.lines.Line2D at 0x11d478310>]"
      ]
     },
     "execution_count": 12,
     "metadata": {},
     "output_type": "execute_result"
    },
    {
     "data": {
      "image/png": "[encoded data removed]",
      "text/plain": [
       "<matplotlib.figure.Figure at 0x11cf7b050>"
      ]
     },
     "metadata": {},
     "output_type": "display_data"
    }
   ],
   "source": [
    "p, res, _, _, _ = np.polyfit(x = wa.year, y= wa.WA, deg=20, full = True)\n",
    "yfitwa = np.polyval(p,wa.year)\n",
    "figure()\n",
    "plot(wa.year,wa.WA, label='data')\n",
    "plot(wa.year,yfitwa, label='fit')"
   ]
  },
  {
   "cell_type": "code",
   "execution_count": 13,
   "metadata": {
    "collapsed": false
   },
   "outputs": [
    {
     "data": {
      "text/plain": [
       "[<matplotlib.lines.Line2D at 0x11d5fca50>]"
      ]
     },
     "execution_count": 13,
     "metadata": {},
     "output_type": "execute_result"
    },
    {
     "data": {
      "image/png": "[encoded data removed]",
      "text/plain": [
       "<matplotlib.figure.Figure at 0x11cf7bd90>"
      ]
     },
     "metadata": {},
     "output_type": "display_data"
    }
   ],
   "source": [
    "p, res, _, _, _ = np.polyfit(x = ny.year, y= ny.NY, deg=8, full = True)\n",
    "yfitny = np.polyval(p,ny.year)\n",
    "figure()\n",
    "plot(ny.year,ny.NY, label='data')\n",
    "plot(ny.year,yfitny, label='fit')"
   ]
  },
  {
   "cell_type": "code",
   "execution_count": 14,
   "metadata": {
    "collapsed": false
   },
   "outputs": [
    {
     "data": {
      "text/plain": [
       "[<matplotlib.lines.Line2D at 0x11d6b4790>]"
      ]
     },
     "execution_count": 14,
     "metadata": {},
     "output_type": "execute_result"
    },
    {
     "data": {
      "image/png": "[encoded data removed]",
      "text/plain": [
       "<matplotlib.figure.Figure at 0x11d73b710>"
      ]
     },
     "metadata": {},
     "output_type": "display_data"
    }
   ],
   "source": [
    "p, res, _, _, _ = np.polyfit(x = fl.year, y= fl.FL, deg=25, full = True)\n",
    "yfitfl = np.polyval(p,fl.year)\n",
    "figure()\n",
    "plot(fl.year,fl.FL, label='data')\n",
    "plot(fl.year,yfitfl, label='fit')"
   ]
  },
  {
   "cell_type": "markdown",
   "metadata": {},
   "source": [
    "Plotted 3 more states across the political gamut. A more conservative state like Florida is trending down in energy consumption while NY is trending up, regardless of its more lberal voter base. Now I'll dive into the mixes to see if these trends are at least in the right direction."
   ]
  },
  {
   "cell_type": "code",
   "execution_count": 15,
   "metadata": {
    "collapsed": false
   },
   "outputs": [
    {
     "name": "stdout",
     "output_type": "stream",
     "text": [
      "                            OLS Regression Results                            \n",
      "==============================================================================\n",
      "Dep. Variable:                     CA   R-squared:                       0.973\n",
      "Model:                            OLS   Adj. R-squared:                  0.972\n",
      "Method:                 Least Squares   F-statistic:                     1911.\n",
      "Date:                Mon, 10 Jul 2017   Prob (F-statistic):           7.87e-44\n",
      "Time:                        12:15:10   Log-Likelihood:                -988.84\n",
      "No. Observations:                  55   AIC:                             1980.\n",
      "Df Residuals:                      54   BIC:                             1982.\n",
      "Df Model:                           1                                         \n",
      "Covariance Type:            nonrobust                                         \n",
      "==============================================================================\n",
      "                 coef    std err          t      P>|t|      [95.0% Conf. Int.]\n",
      "------------------------------------------------------------------------------\n",
      "year           0.0118      0.000     43.710      0.000         0.011     0.012\n",
      "==============================================================================\n",
      "Omnibus:                        6.204   Durbin-Watson:                   0.032\n",
      "Prob(Omnibus):                  0.045   Jarque-Bera (JB):                6.105\n",
      "Skew:                          -0.814   Prob(JB):                       0.0472\n",
      "Kurtosis:                       2.882   Cond. No.                         1.00\n",
      "==============================================================================\n",
      "\n",
      "Warnings:\n",
      "[1] Standard Errors assume that the covariance matrix of the errors is correctly specified.\n",
      "[ 23.10599869  23.11778746  23.12957624  23.14136501  23.15315379\n",
      "  23.16494256  23.17673134  23.18852011  23.20030889  23.21209766\n",
      "  23.22388644  23.23567521  23.24746399  23.25925276  23.27104154\n",
      "  23.28283031  23.29461909  23.30640786  23.31819664  23.32998541\n",
      "  23.34177419  23.35356296  23.36535174  23.37714051  23.38892929\n",
      "  23.40071806  23.41250684  23.42429561  23.43608439  23.44787316\n",
      "  23.45966194  23.47145071  23.48323948  23.49502826  23.50681703\n",
      "  23.51860581  23.53039458  23.54218336  23.55397213  23.56576091\n",
      "  23.57754968  23.58933846  23.60112723  23.61291601  23.62470478\n",
      "  23.63649356  23.64828233  23.66007111  23.67185988  23.68364866\n",
      "  23.69543743  23.70722621  23.71901498  23.73080376  23.74259253]\n"
     ]
    },
    {
     "data": {
      "text/plain": [
       "<matplotlib.collections.PathCollection at 0x11da04ad0>"
      ]
     },
     "execution_count": 15,
     "metadata": {},
     "output_type": "execute_result"
    },
    {
     "data": {
      "image/png": "[encoded data removed]",
      "text/plain": [
       "<matplotlib.figure.Figure at 0x11d8bf850>"
      ]
     },
     "metadata": {},
     "output_type": "display_data"
    }
   ],
   "source": [
    "#was going to use this, but polyfit was more easily interpretable. \n",
    "#I do like how you can use GLS and ARCH with statsmodels,\n",
    "#but polyfit in numpy was more than enough for what I needed.\n",
    "\n",
    "\n",
    "m = sm.OLS(ca.CA,ca.year**3)\n",
    "mres = m.fit()\n",
    "print mres.summary()\n",
    "ypred = mres.predict(ca.year)\n",
    "print(ypred)\n",
    "\n",
    "plt.scatter(mres.fittedvalues, ca.CA)\n",
    "plt.scatter(ca.year,mres.resid)\n"
   ]
  },
  {
   "cell_type": "code",
   "execution_count": null,
   "metadata": {
    "collapsed": false
   },
   "outputs": [],
   "source": []
  },
  {
   "cell_type": "code",
   "execution_count": 16,
   "metadata": {
    "collapsed": false
   },
   "outputs": [
    {
     "data": {
      "text/html": [
       "<div>\n",
       "<table border=\"1\" class=\"dataframe\">\n",
       "  <thead>\n",
       "    <tr style=\"text-align: right;\">\n",
       "      <th></th>\n",
       "      <th>year</th>\n",
       "      <th>Combined Heat and Power, Commercial Power</th>\n",
       "      <th>Combined Heat and Power, Electric Power</th>\n",
       "      <th>Combined Heat and Power, Industrial Power</th>\n",
       "      <th>Electric Generators, Electric Utilities</th>\n",
       "      <th>Electric Generators, Independent Power Producers</th>\n",
       "      <th>Total Electric Power Industry</th>\n",
       "    </tr>\n",
       "  </thead>\n",
       "  <tbody>\n",
       "    <tr>\n",
       "      <th>0</th>\n",
       "      <td>1990</td>\n",
       "      <td>23348486.0</td>\n",
       "      <td>245101798.0</td>\n",
       "      <td>522674386.0</td>\n",
       "      <td>1.123260e+10</td>\n",
       "      <td>127580642.0</td>\n",
       "      <td>1.215131e+10</td>\n",
       "    </tr>\n",
       "    <tr>\n",
       "      <th>1</th>\n",
       "      <td>1991</td>\n",
       "      <td>22636104.0</td>\n",
       "      <td>287767024.0</td>\n",
       "      <td>530316764.0</td>\n",
       "      <td>1.130009e+10</td>\n",
       "      <td>154384202.0</td>\n",
       "      <td>1.229520e+10</td>\n",
       "    </tr>\n",
       "    <tr>\n",
       "      <th>2</th>\n",
       "      <td>1992</td>\n",
       "      <td>24912544.0</td>\n",
       "      <td>365275648.0</td>\n",
       "      <td>573121884.0</td>\n",
       "      <td>1.118888e+10</td>\n",
       "      <td>183342160.0</td>\n",
       "      <td>1.233553e+10</td>\n",
       "    </tr>\n",
       "    <tr>\n",
       "      <th>3</th>\n",
       "      <td>1993</td>\n",
       "      <td>28001676.0</td>\n",
       "      <td>431905600.0</td>\n",
       "      <td>585175490.0</td>\n",
       "      <td>1.153010e+10</td>\n",
       "      <td>213582554.0</td>\n",
       "      <td>1.278876e+10</td>\n",
       "    </tr>\n",
       "    <tr>\n",
       "      <th>4</th>\n",
       "      <td>1994</td>\n",
       "      <td>30477314.0</td>\n",
       "      <td>493998632.0</td>\n",
       "      <td>604710938.0</td>\n",
       "      <td>1.164285e+10</td>\n",
       "      <td>218054370.0</td>\n",
       "      <td>1.299009e+10</td>\n",
       "    </tr>\n",
       "  </tbody>\n",
       "</table>\n",
       "</div>"
      ],
      "text/plain": [
       "   year  Combined Heat and Power, Commercial Power  \\\n",
       "0  1990                                 23348486.0   \n",
       "1  1991                                 22636104.0   \n",
       "2  1992                                 24912544.0   \n",
       "3  1993                                 28001676.0   \n",
       "4  1994                                 30477314.0   \n",
       "\n",
       "   Combined Heat and Power, Electric Power  \\\n",
       "0                              245101798.0   \n",
       "1                              287767024.0   \n",
       "2                              365275648.0   \n",
       "3                              431905600.0   \n",
       "4                              493998632.0   \n",
       "\n",
       "   Combined Heat and Power, Industrial Power  \\\n",
       "0                                522674386.0   \n",
       "1                                530316764.0   \n",
       "2                                573121884.0   \n",
       "3                                585175490.0   \n",
       "4                                604710938.0   \n",
       "\n",
       "   Electric Generators, Electric Utilities  \\\n",
       "0                             1.123260e+10   \n",
       "1                             1.130009e+10   \n",
       "2                             1.118888e+10   \n",
       "3                             1.153010e+10   \n",
       "4                             1.164285e+10   \n",
       "\n",
       "   Electric Generators, Independent Power Producers  \\\n",
       "0                                       127580642.0   \n",
       "1                                       154384202.0   \n",
       "2                                       183342160.0   \n",
       "3                                       213582554.0   \n",
       "4                                       218054370.0   \n",
       "\n",
       "   Total Electric Power Industry  \n",
       "0                   1.215131e+10  \n",
       "1                   1.229520e+10  \n",
       "2                   1.233553e+10  \n",
       "3                   1.278876e+10  \n",
       "4                   1.299009e+10  "
      ]
     },
     "execution_count": 16,
     "metadata": {},
     "output_type": "execute_result"
    }
   ],
   "source": [
    "cons = pd.read_csv('type_gen.csv')\n",
    "cons.head()"
   ]
  },
  {
   "cell_type": "markdown",
   "metadata": {},
   "source": [
    "Probably a little unorthodox, but I think it could be valuable to try and group the years together to see if there was some sort of shift in who is using power over time. Using KNN, see if we actually get any distinct neighborhoods. This could help us detemine if we really have made a change in who is using energy, and how much they're using."
   ]
  },
  {
   "cell_type": "code",
   "execution_count": null,
   "metadata": {
    "collapsed": true
   },
   "outputs": [],
   "source": []
  },
  {
   "cell_type": "code",
   "execution_count": null,
   "metadata": {
    "collapsed": true
   },
   "outputs": [],
   "source": []
  },
  {
   "cell_type": "code",
   "execution_count": null,
   "metadata": {
    "collapsed": true
   },
   "outputs": [],
   "source": []
  },
  {
   "cell_type": "code",
   "execution_count": 17,
   "metadata": {
    "collapsed": true
   },
   "outputs": [],
   "source": [
    "inp = pd.read_csv('input_type.csv')\n",
    "st_type = pd.read_csv('st_gen_max.csv')\n",
    "affil = pd.read_csv('party_aff.csv')"
   ]
  },
  {
   "cell_type": "code",
   "execution_count": 18,
   "metadata": {
    "collapsed": false
   },
   "outputs": [
    {
     "data": {
      "text/html": [
       "<div>\n",
       "<table border=\"1\" class=\"dataframe\">\n",
       "  <thead>\n",
       "    <tr style=\"text-align: right;\">\n",
       "      <th></th>\n",
       "      <th>year</th>\n",
       "      <th>Coal</th>\n",
       "      <th>Geothermal</th>\n",
       "      <th>Hydroelectric Conventional</th>\n",
       "      <th>Natural Gas</th>\n",
       "      <th>Nuclear</th>\n",
       "      <th>Other</th>\n",
       "      <th>Other Biomass</th>\n",
       "      <th>Other Gases</th>\n",
       "      <th>Petroleum</th>\n",
       "      <th>Pumped Storage</th>\n",
       "      <th>Solar Thermal and Photovoltaic</th>\n",
       "      <th>Total</th>\n",
       "      <th>Wind</th>\n",
       "      <th>Wood and Wood Derived Fuels</th>\n",
       "    </tr>\n",
       "  </thead>\n",
       "  <tbody>\n",
       "    <tr>\n",
       "      <th>0</th>\n",
       "      <td>1990</td>\n",
       "      <td>6.376046e+09</td>\n",
       "      <td>61737084.0</td>\n",
       "      <td>1.171463e+09</td>\n",
       "      <td>1.491061e+09</td>\n",
       "      <td>2.307447e+09</td>\n",
       "      <td>14462650.0</td>\n",
       "      <td>53041506.0</td>\n",
       "      <td>41531316.0</td>\n",
       "      <td>505840818.0</td>\n",
       "      <td>-14030964.0</td>\n",
       "      <td>1468348.0</td>\n",
       "      <td>1.215131e+10</td>\n",
       "      <td>11154400.0</td>\n",
       "      <td>130087558.0</td>\n",
       "    </tr>\n",
       "    <tr>\n",
       "      <th>1</th>\n",
       "      <td>1991</td>\n",
       "      <td>6.362491e+09</td>\n",
       "      <td>63865778.0</td>\n",
       "      <td>1.155977e+09</td>\n",
       "      <td>1.526212e+09</td>\n",
       "      <td>2.450260e+09</td>\n",
       "      <td>18955396.0</td>\n",
       "      <td>62658984.0</td>\n",
       "      <td>45342368.0</td>\n",
       "      <td>479006304.0</td>\n",
       "      <td>-18165740.0</td>\n",
       "      <td>1887060.0</td>\n",
       "      <td>1.229520e+10</td>\n",
       "      <td>11803802.0</td>\n",
       "      <td>134901430.0</td>\n",
       "    </tr>\n",
       "    <tr>\n",
       "      <th>2</th>\n",
       "      <td>1992</td>\n",
       "      <td>6.484824e+09</td>\n",
       "      <td>64551848.0</td>\n",
       "      <td>1.012352e+09</td>\n",
       "      <td>1.616298e+09</td>\n",
       "      <td>2.475105e+09</td>\n",
       "      <td>14879552.0</td>\n",
       "      <td>71264132.0</td>\n",
       "      <td>53080942.0</td>\n",
       "      <td>400616658.0</td>\n",
       "      <td>-16706328.0</td>\n",
       "      <td>1598560.0</td>\n",
       "      <td>1.233553e+10</td>\n",
       "      <td>11550090.0</td>\n",
       "      <td>146114652.0</td>\n",
       "    </tr>\n",
       "    <tr>\n",
       "      <th>3</th>\n",
       "      <td>1993</td>\n",
       "      <td>6.760281e+09</td>\n",
       "      <td>67154260.0</td>\n",
       "      <td>1.121976e+09</td>\n",
       "      <td>1.659707e+09</td>\n",
       "      <td>2.441165e+09</td>\n",
       "      <td>13948624.0</td>\n",
       "      <td>73332118.0</td>\n",
       "      <td>51823192.0</td>\n",
       "      <td>451152718.0</td>\n",
       "      <td>-16142288.0</td>\n",
       "      <td>1849808.0</td>\n",
       "      <td>1.278876e+10</td>\n",
       "      <td>12023308.0</td>\n",
       "      <td>150493638.0</td>\n",
       "    </tr>\n",
       "    <tr>\n",
       "      <th>4</th>\n",
       "      <td>1994</td>\n",
       "      <td>6.762775e+09</td>\n",
       "      <td>62141814.0</td>\n",
       "      <td>1.040503e+09</td>\n",
       "      <td>1.840875e+09</td>\n",
       "      <td>2.561759e+09</td>\n",
       "      <td>14667702.0</td>\n",
       "      <td>76514388.0</td>\n",
       "      <td>53276200.0</td>\n",
       "      <td>423603934.0</td>\n",
       "      <td>-13511300.0</td>\n",
       "      <td>1946488.0</td>\n",
       "      <td>1.299009e+10</td>\n",
       "      <td>13788436.0</td>\n",
       "      <td>151749456.0</td>\n",
       "    </tr>\n",
       "  </tbody>\n",
       "</table>\n",
       "</div>"
      ],
      "text/plain": [
       "   year          Coal  Geothermal  Hydroelectric Conventional   Natural Gas  \\\n",
       "0  1990  6.376046e+09  61737084.0                1.171463e+09  1.491061e+09   \n",
       "1  1991  6.362491e+09  63865778.0                1.155977e+09  1.526212e+09   \n",
       "2  1992  6.484824e+09  64551848.0                1.012352e+09  1.616298e+09   \n",
       "3  1993  6.760281e+09  67154260.0                1.121976e+09  1.659707e+09   \n",
       "4  1994  6.762775e+09  62141814.0                1.040503e+09  1.840875e+09   \n",
       "\n",
       "        Nuclear       Other  Other Biomass  Other Gases    Petroleum  \\\n",
       "0  2.307447e+09  14462650.0     53041506.0   41531316.0  505840818.0   \n",
       "1  2.450260e+09  18955396.0     62658984.0   45342368.0  479006304.0   \n",
       "2  2.475105e+09  14879552.0     71264132.0   53080942.0  400616658.0   \n",
       "3  2.441165e+09  13948624.0     73332118.0   51823192.0  451152718.0   \n",
       "4  2.561759e+09  14667702.0     76514388.0   53276200.0  423603934.0   \n",
       "\n",
       "   Pumped Storage  Solar Thermal and Photovoltaic         Total        Wind  \\\n",
       "0     -14030964.0                       1468348.0  1.215131e+10  11154400.0   \n",
       "1     -18165740.0                       1887060.0  1.229520e+10  11803802.0   \n",
       "2     -16706328.0                       1598560.0  1.233553e+10  11550090.0   \n",
       "3     -16142288.0                       1849808.0  1.278876e+10  12023308.0   \n",
       "4     -13511300.0                       1946488.0  1.299009e+10  13788436.0   \n",
       "\n",
       "   Wood and Wood Derived Fuels  \n",
       "0                  130087558.0  \n",
       "1                  134901430.0  \n",
       "2                  146114652.0  \n",
       "3                  150493638.0  \n",
       "4                  151749456.0  "
      ]
     },
     "execution_count": 18,
     "metadata": {},
     "output_type": "execute_result"
    }
   ],
   "source": [
    "inp.head()"
   ]
  },
  {
   "cell_type": "code",
   "execution_count": 19,
   "metadata": {
    "collapsed": false,
    "scrolled": false
   },
   "outputs": [],
   "source": [
    "st_type = st_type[st_type.gen_by_type != 0]\n",
    "st_type = st_type[st_type.state != 'US-TOTAL']\n",
    "st_type = st_type[st_type.state != 'US-Total']\n",
    "\n"
   ]
  },
  {
   "cell_type": "code",
   "execution_count": 20,
   "metadata": {
    "collapsed": false
   },
   "outputs": [],
   "source": [
    "affil[\"swing\"] = np.where(affil[\"affiliation\"].str.contains(\"Rep\"), 1, 0)"
   ]
  },
  {
   "cell_type": "code",
   "execution_count": 21,
   "metadata": {
    "collapsed": true
   },
   "outputs": [],
   "source": [
    "st_type = st_type.merge(affil, on='state', how = 'inner')"
   ]
  },
  {
   "cell_type": "code",
   "execution_count": 22,
   "metadata": {
    "collapsed": false
   },
   "outputs": [],
   "source": [
    "st_type = st_type.drop('affiliation',1)"
   ]
  },
  {
   "cell_type": "code",
   "execution_count": 23,
   "metadata": {
    "collapsed": false
   },
   "outputs": [
    {
     "name": "stdout",
     "output_type": "stream",
     "text": [
      "Tuned Knn classifier paramters: {'n_neighbors': 4}\n",
      "Tuned Knn classifier score: 0.514285714286\n"
     ]
    },
    {
     "name": "stderr",
     "output_type": "stream",
     "text": [
      "/Users/jackdwyer/anaconda/lib/python2.7/site-packages/sklearn/model_selection/_split.py:581: Warning: The least populated class in y has only 1 members, which is too few. The minimum number of groups for any class cannot be less than n_splits=5.\n",
      "  % (min_groups, self.n_splits)), Warning)\n"
     ]
    }
   ],
   "source": [
    "#first we'll see if there is any predictive power in modelling a state's maximum generation type\n",
    "#on the quantity of that generation. Maybe states who need more power use more fossil fuels?\n",
    "from sklearn.model_selection import GridSearchCV\n",
    "from sklearn.neighbors import KNeighborsClassifier\n",
    "param_grid = {'n_neighbors': [2,3,4,5]}\n",
    "\n",
    "knn = KNeighborsClassifier()\n",
    "\n",
    "X = st_type[['gen_by_type','swing']]\n",
    "#X = st_type.gen_by_type.values.reshape(-1,1)\n",
    "\n",
    "\n",
    "x_train, x_test, y_train, y_test = train_test_split(X, st_type.input_type, test_size = .3)\n",
    "knn_cv = GridSearchCV(knn, param_grid, cv = 5)\n",
    "knn_cv.fit(x_train, y_train)\n",
    "\n",
    "print(\"Tuned Knn classifier paramters: {}\".format(knn_cv.best_params_))\n",
    "print(\"Tuned Knn classifier score: {}\".format(knn_cv.best_score_))\n",
    "\n",
    "\n",
    "\n"
   ]
  },
  {
   "cell_type": "markdown",
   "metadata": {},
   "source": [
    "What this tells us is that not only are there 3-5 big generation types in the country, but they are likely related to size of generation needed for states. Thinking critically, and using other information, we know that a large state like California does not rely on coal, while other smaller states may. This is for two reasons: Natural gas has become very cheap, especially with the shale revolution, and natural gas is very energy dense and carbon deficient. I think the states that rely on hydro are actually muddying up our analysis, because they are endowed with a unqiue resource that makes classification hard.\n",
    "\n",
    "Additionally, I ran this analysis without the political affilaition, and found very similar results. "
   ]
  },
  {
   "cell_type": "code",
   "execution_count": 24,
   "metadata": {
    "collapsed": false
   },
   "outputs": [
    {
     "data": {
      "text/plain": [
       "0.53333333333333333"
      ]
     },
     "execution_count": 24,
     "metadata": {},
     "output_type": "execute_result"
    }
   ],
   "source": [
    "knn = KNeighborsClassifier(n_neighbors=5)\n",
    "knn.fit(x_train, y_train)\n",
    "prediction = knn.predict(x_test)\n",
    "accuracy_score(y_test,prediction)"
   ]
  },
  {
   "cell_type": "markdown",
   "metadata": {},
   "source": [
    "An accuracy of ~.5 isn't incredibly bad given how little data we fed our model, and the political and geographic nature of the various states. "
   ]
  },
  {
   "cell_type": "markdown",
   "metadata": {},
   "source": [
    "I'll run a difference and see if there is a significant difference between the scores with and without the political party included."
   ]
  },
  {
   "cell_type": "code",
   "execution_count": 25,
   "metadata": {
    "collapsed": false
   },
   "outputs": [],
   "source": [
    "\n",
    "X_affil = st_type[['gen_by_type','swing']]\n",
    "X_none = st_type.gen_by_type.values.reshape(-1,1)\n",
    "score_affil = []\n",
    "score_none = []\n",
    "\n",
    "for i in range(1000):\n",
    "    knn = KNeighborsClassifier(n_neighbors=4)\n",
    "    x_train, x_test, y_train, y_test = train_test_split(X_affil, st_type.input_type, test_size = .3)\n",
    "    knn.fit(x_train, y_train)\n",
    "    prediction = knn.predict(x_test)\n",
    "    score_affil.append(accuracy_score(y_test,prediction))\n",
    "\n",
    "    x_train, x_test, y_train, y_test = train_test_split(X_none, st_type.input_type, test_size = .3)\n",
    "    knn = KNeighborsClassifier(n_neighbors=4)\n",
    "    knn.fit(x_train, y_train)\n",
    "    prediction = knn.predict(x_test)\n",
    "    score_none.append(accuracy_score(y_test,prediction))\n",
    "\n",
    "    \n"
   ]
  },
  {
   "cell_type": "code",
   "execution_count": 26,
   "metadata": {
    "collapsed": false
   },
   "outputs": [],
   "source": [
    "diff_of_means = np.mean(score_none)-np.mean(score_affil)\n",
    "array = score_none+score_affil\n",
    "rand_scores = np.random.permutation(array)\n",
    "new_diff = rand_scores[0:1000] - rand_scores[1000:]"
   ]
  },
  {
   "cell_type": "code",
   "execution_count": 27,
   "metadata": {
    "collapsed": false
   },
   "outputs": [
    {
     "name": "stdout",
     "output_type": "stream",
     "text": [
      "423\n"
     ]
    }
   ],
   "source": [
    "p = np.sum((new_diff>=diff_of_means))\n",
    "print p\n"
   ]
  },
  {
   "cell_type": "markdown",
   "metadata": {},
   "source": [
    "Since more than 50 of our 1000 samples fail to reject the null that the means of the score are different, I would say the party affiliation of each state has no real impact on what their main generation is."
   ]
  },
  {
   "cell_type": "markdown",
   "metadata": {},
   "source": [
    "Another thing we can do here is figure out if using input and generation, we can predict the political climate in a state. I suspect that it was be fruitless, as above we saw little to no impact, but it'll be worth a shot. Because Coal is the commodity on everyone's mind, I'll make that the outcome (whether or not a state relies most on coal)."
   ]
  },
  {
   "cell_type": "code",
   "execution_count": 28,
   "metadata": {
    "collapsed": true
   },
   "outputs": [],
   "source": [
    "st_type[\"coal\"] = np.where(st_type[\"input_type\"].str.contains(\"Coal\"), 1, 0)"
   ]
  },
  {
   "cell_type": "code",
   "execution_count": 29,
   "metadata": {
    "collapsed": false
   },
   "outputs": [],
   "source": [
    "st_type.head()\n",
    "coal_df = st_type.drop('input_type',1)"
   ]
  },
  {
   "cell_type": "code",
   "execution_count": null,
   "metadata": {
    "collapsed": false
   },
   "outputs": [],
   "source": []
  },
  {
   "cell_type": "code",
   "execution_count": 30,
   "metadata": {
    "collapsed": false
   },
   "outputs": [
    {
     "name": "stdout",
     "output_type": "stream",
     "text": [
      "Tuned Log classifier paramters: {'penalty': 'l1', 'C': 3.7275937203149381}\n",
      "Tuned Log classifier score: 0.657142857143\n"
     ]
    }
   ],
   "source": [
    "from sklearn.model_selection import GridSearchCV\n",
    "from sklearn.neighbors import KNeighborsClassifier\n",
    "param_grid = {'C': np.logspace(-5,8,15), 'penalty': ['l1','l2']}\n",
    "\n",
    "knn = LogisticRegression()\n",
    "\n",
    "X = coal_df[['gen_by_type','swing']]\n",
    "\n",
    "\n",
    "x_train, x_test, y_train, y_test = train_test_split(X, st_type.coal, test_size = .3)\n",
    "knn_cv = GridSearchCV(knn, param_grid, cv = 5)\n",
    "knn_cv.fit(x_train, y_train)\n",
    "\n",
    "print(\"Tuned Log classifier paramters: {}\".format(knn_cv.best_params_))\n",
    "print(\"Tuned Log classifier score: {}\".format(knn_cv.best_score_))"
   ]
  },
  {
   "cell_type": "code",
   "execution_count": 31,
   "metadata": {
    "collapsed": false
   },
   "outputs": [
    {
     "data": {
      "text/plain": [
       "0.8666666666666667"
      ]
     },
     "execution_count": 31,
     "metadata": {},
     "output_type": "execute_result"
    }
   ],
   "source": [
    "knn = LogisticRegression(C = 3.73, penalty='l1')\n",
    "knn.fit(x_train, y_train)\n",
    "prediction = knn.predict(x_test)\n",
    "accuracy_score(y_test,prediction)"
   ]
  },
  {
   "cell_type": "markdown",
   "metadata": {},
   "source": [
    "Sort of surprising result, and sesnsible one too. It is at least kind of predictable whether or not a country will use coal based on it's generation and affiliation. Below I'll see how well simply being mostly conservative predicts coals use. I assume it'll be very close to the result we just obtained."
   ]
  },
  {
   "cell_type": "code",
   "execution_count": 32,
   "metadata": {
    "collapsed": false
   },
   "outputs": [
    {
     "name": "stdout",
     "output_type": "stream",
     "text": [
      "Tuned Log classifier paramters: {'penalty': 'l1', 'C': 0.43939705607607948}\n",
      "Tuned Log classifier score: 0.8\n"
     ]
    }
   ],
   "source": [
    "from sklearn.model_selection import GridSearchCV\n",
    "from sklearn.neighbors import KNeighborsClassifier\n",
    "param_grid = {'C': np.logspace(-5,8,15), 'penalty': ['l1','l2']}\n",
    "\n",
    "knn = LogisticRegression()\n",
    "\n",
    "X = coal_df['swing'].values.reshape(-1,1)\n",
    "\n",
    "\n",
    "x_train, x_test, y_train, y_test = train_test_split(X, st_type.coal, test_size = .3)\n",
    "knn_cv = GridSearchCV(knn, param_grid, cv = 5)\n",
    "knn_cv.fit(x_train, y_train)\n",
    "\n",
    "print(\"Tuned Log classifier paramters: {}\".format(knn_cv.best_params_))\n",
    "print(\"Tuned Log classifier score: {}\".format(knn_cv.best_score_))"
   ]
  },
  {
   "cell_type": "code",
   "execution_count": 33,
   "metadata": {
    "collapsed": false
   },
   "outputs": [
    {
     "data": {
      "text/plain": [
       "0.53333333333333333"
      ]
     },
     "execution_count": 33,
     "metadata": {},
     "output_type": "execute_result"
    }
   ],
   "source": [
    "knn = LogisticRegression(C = 3.73, penalty='l1')\n",
    "knn.fit(x_train, y_train)\n",
    "prediction = knn.predict(x_test)\n",
    "accuracy_score(y_test,prediction)"
   ]
  },
  {
   "cell_type": "markdown",
   "metadata": {},
   "source": [
    "As expected, pretty similar. I think this has more to do with smaller conservative states using coal more rather than liberal states using coal less. Still a cool comparison."
   ]
  },
  {
   "cell_type": "markdown",
   "metadata": {},
   "source": [
    "Now that we've got an idea for what's happening from state to state, I want to see what Coal's regression looks like."
   ]
  },
  {
   "cell_type": "code",
   "execution_count": 34,
   "metadata": {
    "collapsed": false
   },
   "outputs": [
    {
     "data": {
      "text/plain": [
       "[<matplotlib.lines.Line2D at 0x11dbd7950>]"
      ]
     },
     "execution_count": 34,
     "metadata": {},
     "output_type": "execute_result"
    },
    {
     "data": {
      "image/png": "[encoded data removed]",
      "text/plain": [
       "<matplotlib.figure.Figure at 0x11dbd7110>"
      ]
     },
     "metadata": {},
     "output_type": "display_data"
    }
   ],
   "source": [
    "\n",
    "p,res,_,_,_ = np.polyfit(inp.year, inp.Coal, deg = 3, full=True)\n",
    "yfitcoal = np.polyval(p,inp.year)\n",
    "figure()\n",
    "plot(inp.year, inp.Coal, label = 'data')\n",
    "plot(inp.year, yfitcoal, label = 'fit')"
   ]
  },
  {
   "cell_type": "markdown",
   "metadata": {},
   "source": [
    "Without really needing to do any analysis, it looks like coal is declining, and has been for some time. Drawing on my energy economics background, I can tell you that while we're just now hearing about the death of coal and policies around killing coal, it's actually been on it's way our for the last 10-15 years (pre-obamam even). Coal stopped being economically viable when natural gas hydraulic fracturing and shale became pervasive, and while those have a hose of their own problems, we can at least have clean(er) air to accompany our \"dirty water\"."
   ]
  },
  {
   "cell_type": "code",
   "execution_count": 35,
   "metadata": {
    "collapsed": false
   },
   "outputs": [
    {
     "data": {
      "text/plain": [
       "[<matplotlib.lines.Line2D at 0x11db6c290>]"
      ]
     },
     "execution_count": 35,
     "metadata": {},
     "output_type": "execute_result"
    },
    {
     "data": {
      "image/png": "[encoded data removed]",
      "text/plain": [
       "<matplotlib.figure.Figure at 0x11d252810>"
      ]
     },
     "metadata": {},
     "output_type": "display_data"
    }
   ],
   "source": [
    "\n",
    "p,res,_,_,_ = np.polyfit(inp.year, inp['Natural Gas'], deg = 2, full=True)\n",
    "yfitcoal = np.polyval(p,inp.year)\n",
    "figure()\n",
    "plot(inp.year, inp['Natural Gas'], label = 'data')\n",
    "plot(inp.year, yfitcoal, label = 'fit')\n",
    "\n"
   ]
  },
  {
   "cell_type": "markdown",
   "metadata": {},
   "source": [
    "Not surpisingly, natural gas has been climbing at an increasing rate for as long as our data can show."
   ]
  },
  {
   "cell_type": "code",
   "execution_count": 36,
   "metadata": {
    "collapsed": false
   },
   "outputs": [
    {
     "data": {
      "text/plain": [
       "[<matplotlib.lines.Line2D at 0x11dfc9ad0>]"
      ]
     },
     "execution_count": 36,
     "metadata": {},
     "output_type": "execute_result"
    },
    {
     "data": {
      "image/png": "[encoded data removed]",
      "text/plain": [
       "<matplotlib.figure.Figure at 0x11dc25890>"
      ]
     },
     "metadata": {},
     "output_type": "display_data"
    },
    {
     "data": {
      "image/png": "[encoded data removed]",
      "text/plain": [
       "<matplotlib.figure.Figure at 0x11d252ad0>"
      ]
     },
     "metadata": {},
     "output_type": "display_data"
    },
    {
     "data": {
      "image/png": "[encoded data removed]",
      "text/plain": [
       "<matplotlib.figure.Figure at 0x11deea7d0>"
      ]
     },
     "metadata": {},
     "output_type": "display_data"
    },
    {
     "data": {
      "image/png": "[encoded data removed]",
      "text/plain": [
       "<matplotlib.figure.Figure at 0x11dfbe650>"
      ]
     },
     "metadata": {},
     "output_type": "display_data"
    }
   ],
   "source": [
    "p,res,_,_,_ = np.polyfit(inp.year, inp['Natural Gas'], deg = 2, full=True)\n",
    "yfitcoal = np.polyval(p,inp.year)\n",
    "figure()\n",
    "plot(inp.year, inp['Natural Gas'], label = 'data')\n",
    "plot(inp.year, yfitcoal, label = 'fit')\n",
    "\n",
    "\n",
    "p,res,_,_,_ = np.polyfit(inp.year, inp['Solar Thermal and Photovoltaic'], deg = 5, full=True)\n",
    "yfitcoal = np.polyval(p,inp.year)\n",
    "figure()\n",
    "plot(inp.year, inp['Solar Thermal and Photovoltaic'], label = 'data')\n",
    "plot(inp.year, yfitcoal, label = 'fit')\n",
    "\n",
    "\n",
    "p,res,_,_,_ = np.polyfit(inp.year, inp['Wind'], deg = 5, full=True)\n",
    "yfitcoal = np.polyval(p,inp.year)\n",
    "figure()\n",
    "plot(inp.year, inp['Wind'], label = 'data')\n",
    "plot(inp.year, yfitcoal, label = 'fit')\n",
    "\n",
    "p,res,_,_,_ = np.polyfit(inp.year, inp['Nuclear'], deg = 4, full=True)\n",
    "yfitcoal = np.polyval(p,inp.year)\n",
    "figure()\n",
    "plot(inp.year, inp['Nuclear'], label = 'data')\n",
    "plot(inp.year, yfitcoal, label = 'fit')"
   ]
  },
  {
   "cell_type": "code",
   "execution_count": null,
   "metadata": {
    "collapsed": true
   },
   "outputs": [],
   "source": []
  }
 ],
 "metadata": {
  "kernelspec": {
   "display_name": "Python 2",
   "language": "python",
   "name": "python2"
  },
  "language_info": {
   "codemirror_mode": {
    "name": "ipython",
    "version": 2
   },
   "file_extension": ".py",
   "mimetype": "text/x-python",
   "name": "python",
   "nbconvert_exporter": "python",
   "pygments_lexer": "ipython2",
   "version": "2.7.13"
  }
 },
 "nbformat": 4,
 "nbformat_minor": 2
}
